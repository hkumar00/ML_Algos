{
 "cells": [
  {
   "cell_type": "markdown",
   "metadata": {},
   "source": [
    "# Amazon Fine Food Reviews Analysis\n",
    "\n",
    "\n",
    "Data Source: https://www.kaggle.com/snap/amazon-fine-food-reviews <br>\n",
    "\n",
    "EDA: https://nycdatascience.com/blog/student-works/amazon-fine-foods-visualization/\n",
    "\n",
    "\n",
    "The Amazon Fine Food Reviews dataset consists of reviews of fine foods from Amazon.<br>\n",
    "\n",
    "Number of reviews: 568,454<br>\n",
    "Number of users: 256,059<br>\n",
    "Number of products: 74,258<br>\n",
    "Timespan: Oct 1999 - Oct 2012<br>\n",
    "Number of Attributes/Columns in data: 10 \n",
    "\n",
    "Attribute Information:\n",
    "\n",
    "1. Id\n",
    "2. ProductId - unique identifier for the product\n",
    "3. UserId - unqiue identifier for the user\n",
    "4. ProfileName\n",
    "5. HelpfulnessNumerator - number of users who found the review helpful\n",
    "6. HelpfulnessDenominator - number of users who indicated whether they found the review helpful or not\n",
    "7. Score - rating between 1 and 5\n",
    "8. Time - timestamp for the review\n",
    "9. Summary - brief summary of the review\n",
    "10. Text - text of the review\n",
    "\n",
    "\n",
    "#### Objective:\n",
    "Given a review, determine whether the review is positive (rating of 4 or 5) or negative (rating of 1 or 2).\n",
    "\n",
    "<br>\n",
    "[Q] How to determine if a review is positive or negative?<br>\n",
    "<br> \n",
    "[Ans] We could use Score/Rating. A rating of 4 or 5 can be cosnidered as a positive review. A rating of 1 or 2 can be considered as negative one. A review of rating 3 is considered nuetral and such reviews are ignored from our analysis. This is an approximate and proxy way of determining the polarity (positivity/negativity) of a review.\n",
    "\n",
    "\n"
   ]
  },
  {
   "cell_type": "markdown",
   "metadata": {},
   "source": [
    "# [1]. Reading Data"
   ]
  },
  {
   "cell_type": "markdown",
   "metadata": {},
   "source": [
    "## [1.1] Loading the data\n",
    "\n",
    "The dataset is available in two forms\n",
    "1. .csv file\n",
    "2. SQLite Database\n",
    "\n",
    "In order to load the data, We have used the SQLITE dataset as it is easier to query the data and visualise the data efficiently.\n",
    "<br> \n",
    "\n",
    "Here as we only want to get the global sentiment of the recommendations (positive or negative), we will purposefully ignore all Scores equal to 3. If the score is above 3, then the recommendation wil be set to \"positive\". Otherwise, it will be set to \"negative\"."
   ]
  },
  {
   "cell_type": "code",
   "execution_count": 32,
   "metadata": {},
   "outputs": [],
   "source": [
    "%matplotlib inline\n",
    "import warnings\n",
    "warnings.filterwarnings(\"ignore\")\n",
    "\n",
    "\n",
    "import sqlite3\n",
    "import pandas as pd\n",
    "import numpy as np\n",
    "import nltk\n",
    "import string\n",
    "import matplotlib.pyplot as plt\n",
    "import seaborn as sns\n",
    "from sklearn.feature_extraction.text import TfidfVectorizer\n",
    "\n",
    "from sklearn.feature_extraction.text import CountVectorizer\n",
    "from sklearn.metrics import confusion_matrix\n",
    "from sklearn.metrics import roc_curve, auc, roc_auc_score\n",
    "from scipy.sparse import hstack\n",
    "\n",
    "import re\n",
    "# Tutorial about Python regular expressions: https://pymotw.com/2/re/\n",
    "import string\n",
    "from nltk.stem import SnowballStemmer\n",
    "\n",
    "from tqdm import tqdm\n",
    "import os\n",
    "\n",
    "from sklearn.preprocessing import StandardScaler\n",
    "\n",
    "import pickle as pkl\n",
    "from prettytable import PrettyTable\n",
    "from sklearn.naive_bayes import MultinomialNB\n",
    "\n",
    "from sklearn.exceptions import DataConversionWarning\n",
    "warnings.filterwarnings(action='ignore', category=DataConversionWarning)"
   ]
  },
  {
   "cell_type": "code",
   "execution_count": 4,
   "metadata": {},
   "outputs": [
    {
     "name": "stdout",
     "output_type": "stream",
     "text": [
      "Shape of review data is (525814, 10)\n"
     ]
    },
    {
     "data": {
      "text/html": [
       "<div>\n",
       "<style scoped>\n",
       "    .dataframe tbody tr th:only-of-type {\n",
       "        vertical-align: middle;\n",
       "    }\n",
       "\n",
       "    .dataframe tbody tr th {\n",
       "        vertical-align: top;\n",
       "    }\n",
       "\n",
       "    .dataframe thead th {\n",
       "        text-align: right;\n",
       "    }\n",
       "</style>\n",
       "<table border=\"1\" class=\"dataframe\">\n",
       "  <thead>\n",
       "    <tr style=\"text-align: right;\">\n",
       "      <th></th>\n",
       "      <th>Id</th>\n",
       "      <th>ProductId</th>\n",
       "      <th>UserId</th>\n",
       "      <th>ProfileName</th>\n",
       "      <th>HelpfulnessNumerator</th>\n",
       "      <th>HelpfulnessDenominator</th>\n",
       "      <th>Score</th>\n",
       "      <th>Time</th>\n",
       "      <th>Summary</th>\n",
       "      <th>Text</th>\n",
       "    </tr>\n",
       "  </thead>\n",
       "  <tbody>\n",
       "    <tr>\n",
       "      <th>0</th>\n",
       "      <td>1</td>\n",
       "      <td>B001E4KFG0</td>\n",
       "      <td>A3SGXH7AUHU8GW</td>\n",
       "      <td>delmartian</td>\n",
       "      <td>1</td>\n",
       "      <td>1</td>\n",
       "      <td>Positive</td>\n",
       "      <td>1303862400</td>\n",
       "      <td>Good Quality Dog Food</td>\n",
       "      <td>I have bought several of the Vitality canned d...</td>\n",
       "    </tr>\n",
       "    <tr>\n",
       "      <th>1</th>\n",
       "      <td>2</td>\n",
       "      <td>B00813GRG4</td>\n",
       "      <td>A1D87F6ZCVE5NK</td>\n",
       "      <td>dll pa</td>\n",
       "      <td>0</td>\n",
       "      <td>0</td>\n",
       "      <td>Negative</td>\n",
       "      <td>1346976000</td>\n",
       "      <td>Not as Advertised</td>\n",
       "      <td>Product arrived labeled as Jumbo Salted Peanut...</td>\n",
       "    </tr>\n",
       "    <tr>\n",
       "      <th>2</th>\n",
       "      <td>3</td>\n",
       "      <td>B000LQOCH0</td>\n",
       "      <td>ABXLMWJIXXAIN</td>\n",
       "      <td>Natalia Corres \"Natalia Corres\"</td>\n",
       "      <td>1</td>\n",
       "      <td>1</td>\n",
       "      <td>Positive</td>\n",
       "      <td>1219017600</td>\n",
       "      <td>\"Delight\" says it all</td>\n",
       "      <td>This is a confection that has been around a fe...</td>\n",
       "    </tr>\n",
       "  </tbody>\n",
       "</table>\n",
       "</div>"
      ],
      "text/plain": [
       "   Id   ProductId          UserId                      ProfileName  \\\n",
       "0   1  B001E4KFG0  A3SGXH7AUHU8GW                       delmartian   \n",
       "1   2  B00813GRG4  A1D87F6ZCVE5NK                           dll pa   \n",
       "2   3  B000LQOCH0   ABXLMWJIXXAIN  Natalia Corres \"Natalia Corres\"   \n",
       "\n",
       "   HelpfulnessNumerator  HelpfulnessDenominator     Score        Time  \\\n",
       "0                     1                       1  Positive  1303862400   \n",
       "1                     0                       0  Negative  1346976000   \n",
       "2                     1                       1  Positive  1219017600   \n",
       "\n",
       "                 Summary                                               Text  \n",
       "0  Good Quality Dog Food  I have bought several of the Vitality canned d...  \n",
       "1      Not as Advertised  Product arrived labeled as Jumbo Salted Peanut...  \n",
       "2  \"Delight\" says it all  This is a confection that has been around a fe...  "
      ]
     },
     "execution_count": 4,
     "metadata": {},
     "output_type": "execute_result"
    }
   ],
   "source": [
    "# Read the Amazon fine food review data from database using sqlite \n",
    "con = sqlite3.connect('database.sqlite')\n",
    "\n",
    "# Select all reviews where score is not 3 (neutral)\n",
    "review_data = pd.read_sql_query(\"\"\"SELECT * FROM Reviews WHERE Score != 3\"\"\", con)\n",
    "\n",
    "# Assign positive class if score >=4 else assign negative class\n",
    "score = review_data['Score']\n",
    "PN_score = score.map(lambda x: \"Positive\" if x>=4 else \"Negative\")\n",
    "review_data['Score'] = PN_score\n",
    "\n",
    "\n",
    "print(\"Shape of review data is {}\".format(review_data.shape))\n",
    "review_data.head(3)"
   ]
  },
  {
   "cell_type": "code",
   "execution_count": 5,
   "metadata": {},
   "outputs": [],
   "source": [
    "#Trying to visualize the duplicate data before removal\n",
    "display = pd.read_sql_query(\"\"\"\n",
    "SELECT UserId, ProductId, ProfileName, Time, Score, Text, COUNT(*)\n",
    "FROM Reviews\n",
    "GROUP BY UserId\n",
    "HAVING COUNT(*)>1\n",
    "\"\"\", con)"
   ]
  },
  {
   "cell_type": "code",
   "execution_count": 7,
   "metadata": {
    "scrolled": true
   },
   "outputs": [
    {
     "name": "stdout",
     "output_type": "stream",
     "text": [
      "(80668, 7)\n"
     ]
    },
    {
     "data": {
      "text/html": [
       "<div>\n",
       "<style scoped>\n",
       "    .dataframe tbody tr th:only-of-type {\n",
       "        vertical-align: middle;\n",
       "    }\n",
       "\n",
       "    .dataframe tbody tr th {\n",
       "        vertical-align: top;\n",
       "    }\n",
       "\n",
       "    .dataframe thead th {\n",
       "        text-align: right;\n",
       "    }\n",
       "</style>\n",
       "<table border=\"1\" class=\"dataframe\">\n",
       "  <thead>\n",
       "    <tr style=\"text-align: right;\">\n",
       "      <th></th>\n",
       "      <th>UserId</th>\n",
       "      <th>ProductId</th>\n",
       "      <th>ProfileName</th>\n",
       "      <th>Time</th>\n",
       "      <th>Score</th>\n",
       "      <th>Text</th>\n",
       "      <th>COUNT(*)</th>\n",
       "    </tr>\n",
       "  </thead>\n",
       "  <tbody>\n",
       "    <tr>\n",
       "      <th>0</th>\n",
       "      <td>#oc-R115TNMSPFT9I7</td>\n",
       "      <td>B007Y59HVM</td>\n",
       "      <td>Breyton</td>\n",
       "      <td>1331510400</td>\n",
       "      <td>2</td>\n",
       "      <td>Overall its just OK when considering the price...</td>\n",
       "      <td>2</td>\n",
       "    </tr>\n",
       "    <tr>\n",
       "      <th>1</th>\n",
       "      <td>#oc-R11D9D7SHXIJB9</td>\n",
       "      <td>B005HG9ET0</td>\n",
       "      <td>Louis E. Emory \"hoppy\"</td>\n",
       "      <td>1342396800</td>\n",
       "      <td>5</td>\n",
       "      <td>My wife has recurring extreme muscle spasms, u...</td>\n",
       "      <td>3</td>\n",
       "    </tr>\n",
       "    <tr>\n",
       "      <th>2</th>\n",
       "      <td>#oc-R11DNU2NBKQ23Z</td>\n",
       "      <td>B007Y59HVM</td>\n",
       "      <td>Kim Cieszykowski</td>\n",
       "      <td>1348531200</td>\n",
       "      <td>1</td>\n",
       "      <td>This coffee is horrible and unfortunately not ...</td>\n",
       "      <td>2</td>\n",
       "    </tr>\n",
       "    <tr>\n",
       "      <th>3</th>\n",
       "      <td>#oc-R11O5J5ZVQE25C</td>\n",
       "      <td>B005HG9ET0</td>\n",
       "      <td>Penguin Chick</td>\n",
       "      <td>1346889600</td>\n",
       "      <td>5</td>\n",
       "      <td>This will be the bottle that you grab from the...</td>\n",
       "      <td>3</td>\n",
       "    </tr>\n",
       "    <tr>\n",
       "      <th>4</th>\n",
       "      <td>#oc-R12KPBODL2B5ZD</td>\n",
       "      <td>B007OSBE1U</td>\n",
       "      <td>Christopher P. Presta</td>\n",
       "      <td>1348617600</td>\n",
       "      <td>1</td>\n",
       "      <td>I didnt like this coffee. Instead of telling y...</td>\n",
       "      <td>2</td>\n",
       "    </tr>\n",
       "  </tbody>\n",
       "</table>\n",
       "</div>"
      ],
      "text/plain": [
       "               UserId   ProductId             ProfileName        Time  Score  \\\n",
       "0  #oc-R115TNMSPFT9I7  B007Y59HVM                 Breyton  1331510400      2   \n",
       "1  #oc-R11D9D7SHXIJB9  B005HG9ET0  Louis E. Emory \"hoppy\"  1342396800      5   \n",
       "2  #oc-R11DNU2NBKQ23Z  B007Y59HVM        Kim Cieszykowski  1348531200      1   \n",
       "3  #oc-R11O5J5ZVQE25C  B005HG9ET0           Penguin Chick  1346889600      5   \n",
       "4  #oc-R12KPBODL2B5ZD  B007OSBE1U   Christopher P. Presta  1348617600      1   \n",
       "\n",
       "                                                Text  COUNT(*)  \n",
       "0  Overall its just OK when considering the price...         2  \n",
       "1  My wife has recurring extreme muscle spasms, u...         3  \n",
       "2  This coffee is horrible and unfortunately not ...         2  \n",
       "3  This will be the bottle that you grab from the...         3  \n",
       "4  I didnt like this coffee. Instead of telling y...         2  "
      ]
     },
     "execution_count": 7,
     "metadata": {},
     "output_type": "execute_result"
    }
   ],
   "source": [
    "print(display.shape)\n",
    "display.head()"
   ]
  },
  {
   "cell_type": "code",
   "execution_count": 8,
   "metadata": {},
   "outputs": [
    {
     "data": {
      "text/html": [
       "<div>\n",
       "<style scoped>\n",
       "    .dataframe tbody tr th:only-of-type {\n",
       "        vertical-align: middle;\n",
       "    }\n",
       "\n",
       "    .dataframe tbody tr th {\n",
       "        vertical-align: top;\n",
       "    }\n",
       "\n",
       "    .dataframe thead th {\n",
       "        text-align: right;\n",
       "    }\n",
       "</style>\n",
       "<table border=\"1\" class=\"dataframe\">\n",
       "  <thead>\n",
       "    <tr style=\"text-align: right;\">\n",
       "      <th></th>\n",
       "      <th>UserId</th>\n",
       "      <th>ProductId</th>\n",
       "      <th>ProfileName</th>\n",
       "      <th>Time</th>\n",
       "      <th>Score</th>\n",
       "      <th>Text</th>\n",
       "      <th>COUNT(*)</th>\n",
       "    </tr>\n",
       "  </thead>\n",
       "  <tbody>\n",
       "    <tr>\n",
       "      <th>80638</th>\n",
       "      <td>AZY10LLTJ71NX</td>\n",
       "      <td>B006P7E5ZI</td>\n",
       "      <td>undertheshrine \"undertheshrine\"</td>\n",
       "      <td>1334707200</td>\n",
       "      <td>5</td>\n",
       "      <td>I was recommended to try green tea extract to ...</td>\n",
       "      <td>5</td>\n",
       "    </tr>\n",
       "  </tbody>\n",
       "</table>\n",
       "</div>"
      ],
      "text/plain": [
       "              UserId   ProductId                      ProfileName        Time  \\\n",
       "80638  AZY10LLTJ71NX  B006P7E5ZI  undertheshrine \"undertheshrine\"  1334707200   \n",
       "\n",
       "       Score                                               Text  COUNT(*)  \n",
       "80638      5  I was recommended to try green tea extract to ...         5  "
      ]
     },
     "execution_count": 8,
     "metadata": {},
     "output_type": "execute_result"
    }
   ],
   "source": [
    "display[display['UserId']=='AZY10LLTJ71NX']"
   ]
  },
  {
   "cell_type": "code",
   "execution_count": 9,
   "metadata": {},
   "outputs": [
    {
     "data": {
      "text/plain": [
       "393063"
      ]
     },
     "execution_count": 9,
     "metadata": {},
     "output_type": "execute_result"
    }
   ],
   "source": [
    "display['COUNT(*)'].sum()"
   ]
  },
  {
   "cell_type": "markdown",
   "metadata": {},
   "source": [
    "#  [2] Exploratory Data Analysis"
   ]
  },
  {
   "cell_type": "markdown",
   "metadata": {},
   "source": [
    "## [2.1] Data Cleaning: Deduplication\n",
    "\n",
    "It is observed (as shown in the table below) that the reviews data had many duplicate entries. Hence it was necessary to remove duplicates in order to get unbiased results for the analysis of the data.  Following is an example:"
   ]
  },
  {
   "cell_type": "code",
   "execution_count": 12,
   "metadata": {
    "scrolled": false
   },
   "outputs": [
    {
     "data": {
      "text/html": [
       "<div>\n",
       "<style scoped>\n",
       "    .dataframe tbody tr th:only-of-type {\n",
       "        vertical-align: middle;\n",
       "    }\n",
       "\n",
       "    .dataframe tbody tr th {\n",
       "        vertical-align: top;\n",
       "    }\n",
       "\n",
       "    .dataframe thead th {\n",
       "        text-align: right;\n",
       "    }\n",
       "</style>\n",
       "<table border=\"1\" class=\"dataframe\">\n",
       "  <thead>\n",
       "    <tr style=\"text-align: right;\">\n",
       "      <th></th>\n",
       "      <th>Id</th>\n",
       "      <th>ProductId</th>\n",
       "      <th>UserId</th>\n",
       "      <th>ProfileName</th>\n",
       "      <th>HelpfulnessNumerator</th>\n",
       "      <th>HelpfulnessDenominator</th>\n",
       "      <th>Score</th>\n",
       "      <th>Time</th>\n",
       "      <th>Summary</th>\n",
       "      <th>Text</th>\n",
       "    </tr>\n",
       "  </thead>\n",
       "  <tbody>\n",
       "    <tr>\n",
       "      <th>0</th>\n",
       "      <td>78445</td>\n",
       "      <td>B000HDL1RQ</td>\n",
       "      <td>AR5J8UI46CURR</td>\n",
       "      <td>Geetha Krishnan</td>\n",
       "      <td>2</td>\n",
       "      <td>2</td>\n",
       "      <td>5</td>\n",
       "      <td>1199577600</td>\n",
       "      <td>LOACKER QUADRATINI VANILLA WAFERS</td>\n",
       "      <td>DELICIOUS WAFERS. I FIND THAT EUROPEAN WAFERS ...</td>\n",
       "    </tr>\n",
       "    <tr>\n",
       "      <th>1</th>\n",
       "      <td>138317</td>\n",
       "      <td>B000HDOPYC</td>\n",
       "      <td>AR5J8UI46CURR</td>\n",
       "      <td>Geetha Krishnan</td>\n",
       "      <td>2</td>\n",
       "      <td>2</td>\n",
       "      <td>5</td>\n",
       "      <td>1199577600</td>\n",
       "      <td>LOACKER QUADRATINI VANILLA WAFERS</td>\n",
       "      <td>DELICIOUS WAFERS. I FIND THAT EUROPEAN WAFERS ...</td>\n",
       "    </tr>\n",
       "    <tr>\n",
       "      <th>2</th>\n",
       "      <td>138277</td>\n",
       "      <td>B000HDOPYM</td>\n",
       "      <td>AR5J8UI46CURR</td>\n",
       "      <td>Geetha Krishnan</td>\n",
       "      <td>2</td>\n",
       "      <td>2</td>\n",
       "      <td>5</td>\n",
       "      <td>1199577600</td>\n",
       "      <td>LOACKER QUADRATINI VANILLA WAFERS</td>\n",
       "      <td>DELICIOUS WAFERS. I FIND THAT EUROPEAN WAFERS ...</td>\n",
       "    </tr>\n",
       "    <tr>\n",
       "      <th>3</th>\n",
       "      <td>73791</td>\n",
       "      <td>B000HDOPZG</td>\n",
       "      <td>AR5J8UI46CURR</td>\n",
       "      <td>Geetha Krishnan</td>\n",
       "      <td>2</td>\n",
       "      <td>2</td>\n",
       "      <td>5</td>\n",
       "      <td>1199577600</td>\n",
       "      <td>LOACKER QUADRATINI VANILLA WAFERS</td>\n",
       "      <td>DELICIOUS WAFERS. I FIND THAT EUROPEAN WAFERS ...</td>\n",
       "    </tr>\n",
       "    <tr>\n",
       "      <th>4</th>\n",
       "      <td>155049</td>\n",
       "      <td>B000PAQ75C</td>\n",
       "      <td>AR5J8UI46CURR</td>\n",
       "      <td>Geetha Krishnan</td>\n",
       "      <td>2</td>\n",
       "      <td>2</td>\n",
       "      <td>5</td>\n",
       "      <td>1199577600</td>\n",
       "      <td>LOACKER QUADRATINI VANILLA WAFERS</td>\n",
       "      <td>DELICIOUS WAFERS. I FIND THAT EUROPEAN WAFERS ...</td>\n",
       "    </tr>\n",
       "  </tbody>\n",
       "</table>\n",
       "</div>"
      ],
      "text/plain": [
       "       Id   ProductId         UserId      ProfileName  HelpfulnessNumerator  \\\n",
       "0   78445  B000HDL1RQ  AR5J8UI46CURR  Geetha Krishnan                     2   \n",
       "1  138317  B000HDOPYC  AR5J8UI46CURR  Geetha Krishnan                     2   \n",
       "2  138277  B000HDOPYM  AR5J8UI46CURR  Geetha Krishnan                     2   \n",
       "3   73791  B000HDOPZG  AR5J8UI46CURR  Geetha Krishnan                     2   \n",
       "4  155049  B000PAQ75C  AR5J8UI46CURR  Geetha Krishnan                     2   \n",
       "\n",
       "   HelpfulnessDenominator  Score        Time  \\\n",
       "0                       2      5  1199577600   \n",
       "1                       2      5  1199577600   \n",
       "2                       2      5  1199577600   \n",
       "3                       2      5  1199577600   \n",
       "4                       2      5  1199577600   \n",
       "\n",
       "                             Summary  \\\n",
       "0  LOACKER QUADRATINI VANILLA WAFERS   \n",
       "1  LOACKER QUADRATINI VANILLA WAFERS   \n",
       "2  LOACKER QUADRATINI VANILLA WAFERS   \n",
       "3  LOACKER QUADRATINI VANILLA WAFERS   \n",
       "4  LOACKER QUADRATINI VANILLA WAFERS   \n",
       "\n",
       "                                                Text  \n",
       "0  DELICIOUS WAFERS. I FIND THAT EUROPEAN WAFERS ...  \n",
       "1  DELICIOUS WAFERS. I FIND THAT EUROPEAN WAFERS ...  \n",
       "2  DELICIOUS WAFERS. I FIND THAT EUROPEAN WAFERS ...  \n",
       "3  DELICIOUS WAFERS. I FIND THAT EUROPEAN WAFERS ...  \n",
       "4  DELICIOUS WAFERS. I FIND THAT EUROPEAN WAFERS ...  "
      ]
     },
     "execution_count": 12,
     "metadata": {},
     "output_type": "execute_result"
    }
   ],
   "source": [
    "display= pd.read_sql_query(\"\"\"\n",
    "SELECT *\n",
    "FROM Reviews\n",
    "WHERE Score != 3 AND UserId=\"AR5J8UI46CURR\"\n",
    "ORDER BY ProductID\n",
    "\"\"\", con)\n",
    "display.head()"
   ]
  },
  {
   "cell_type": "markdown",
   "metadata": {},
   "source": [
    "As it can be seen above that same user has multiple reviews with same values for HelpfulnessNumerator, HelpfulnessDenominator, Score, Time, Summary and Text and on doing analysis it was found that <br>\n",
    "<br> \n",
    "ProductId=B000HDOPZG was Loacker Quadratini Vanilla Wafer Cookies, 8.82-Ounce Packages (Pack of 8)<br>\n",
    "<br> \n",
    "ProductId=B000HDL1RQ was Loacker Quadratini Lemon Wafer Cookies, 8.82-Ounce Packages (Pack of 8) and so on<br>\n",
    "\n",
    "It was inferred after analysis that reviews with same parameters other than ProductId belonged to the same product just having different flavour or quantity. Hence in order to reduce redundancy it was decided to eliminate the rows having same parameters.<br>\n",
    "\n",
    "The method used for the same was that we first sort the data according to ProductId and then just keep the first similar product review and delelte the others. for eg. in the above just the review for ProductId=B000HDL1RQ remains. This method ensures that there is only one representative for each product and deduplication without sorting would lead to possibility of different representatives still existing for the same product."
   ]
  },
  {
   "cell_type": "code",
   "execution_count": 8,
   "metadata": {},
   "outputs": [],
   "source": [
    "#Sorting data according to ProductId in ascending order\n",
    "#sorted_data=filtered_data.sort_values('ProductId', axis=0, ascending=True, inplace=False, kind='quicksort', na_position='last')\n",
    "\n",
    "#Deduplication of entries\n",
    "#final=sorted_data.drop_duplicates(subset={\"UserId\",\"ProfileName\",\"Time\",\"Text\"}, keep='first', inplace=False)\n",
    "#final.shape"
   ]
  },
  {
   "cell_type": "code",
   "execution_count": 13,
   "metadata": {},
   "outputs": [
    {
     "name": "stdout",
     "output_type": "stream",
     "text": [
      "(363186, 10)\n"
     ]
    }
   ],
   "source": [
    "#Remove the duplicate entries from the data\n",
    "\n",
    "sorted_data = review_data.sort_values('ProductId')\n",
    "final = sorted_data.drop_duplicates(subset=[\"UserId\", \"Time\", \"Summary\"])\n",
    "print(final.shape)"
   ]
  },
  {
   "cell_type": "code",
   "execution_count": 15,
   "metadata": {},
   "outputs": [
    {
     "name": "stdout",
     "output_type": "stream",
     "text": [
      "69.07119247490557\n"
     ]
    }
   ],
   "source": [
    "#Checking to see how much % of data still remains\n",
    "print((final['Id'].size*1.0)/(review_data['Id'].size*1.0)*100)"
   ]
  },
  {
   "cell_type": "markdown",
   "metadata": {},
   "source": [
    "<b>Observation:-</b> It was also seen that in two rows given below the value of HelpfulnessNumerator is greater than HelpfulnessDenominator which is not practically possible hence these two rows too are removed from calcualtions"
   ]
  },
  {
   "cell_type": "code",
   "execution_count": 16,
   "metadata": {},
   "outputs": [
    {
     "data": {
      "text/html": [
       "<div>\n",
       "<style scoped>\n",
       "    .dataframe tbody tr th:only-of-type {\n",
       "        vertical-align: middle;\n",
       "    }\n",
       "\n",
       "    .dataframe tbody tr th {\n",
       "        vertical-align: top;\n",
       "    }\n",
       "\n",
       "    .dataframe thead th {\n",
       "        text-align: right;\n",
       "    }\n",
       "</style>\n",
       "<table border=\"1\" class=\"dataframe\">\n",
       "  <thead>\n",
       "    <tr style=\"text-align: right;\">\n",
       "      <th></th>\n",
       "      <th>Id</th>\n",
       "      <th>ProductId</th>\n",
       "      <th>UserId</th>\n",
       "      <th>ProfileName</th>\n",
       "      <th>HelpfulnessNumerator</th>\n",
       "      <th>HelpfulnessDenominator</th>\n",
       "      <th>Score</th>\n",
       "      <th>Time</th>\n",
       "      <th>Summary</th>\n",
       "      <th>Text</th>\n",
       "    </tr>\n",
       "  </thead>\n",
       "  <tbody>\n",
       "    <tr>\n",
       "      <th>0</th>\n",
       "      <td>64422</td>\n",
       "      <td>B000MIDROQ</td>\n",
       "      <td>A161DK06JJMCYF</td>\n",
       "      <td>J. E. Stephens \"Jeanne\"</td>\n",
       "      <td>3</td>\n",
       "      <td>1</td>\n",
       "      <td>5</td>\n",
       "      <td>1224892800</td>\n",
       "      <td>Bought This for My Son at College</td>\n",
       "      <td>My son loves spaghetti so I didn't hesitate or...</td>\n",
       "    </tr>\n",
       "    <tr>\n",
       "      <th>1</th>\n",
       "      <td>44737</td>\n",
       "      <td>B001EQ55RW</td>\n",
       "      <td>A2V0I904FH7ABY</td>\n",
       "      <td>Ram</td>\n",
       "      <td>3</td>\n",
       "      <td>2</td>\n",
       "      <td>4</td>\n",
       "      <td>1212883200</td>\n",
       "      <td>Pure cocoa taste with crunchy almonds inside</td>\n",
       "      <td>It was almost a 'love at first bite' - the per...</td>\n",
       "    </tr>\n",
       "  </tbody>\n",
       "</table>\n",
       "</div>"
      ],
      "text/plain": [
       "      Id   ProductId          UserId              ProfileName  \\\n",
       "0  64422  B000MIDROQ  A161DK06JJMCYF  J. E. Stephens \"Jeanne\"   \n",
       "1  44737  B001EQ55RW  A2V0I904FH7ABY                      Ram   \n",
       "\n",
       "   HelpfulnessNumerator  HelpfulnessDenominator  Score        Time  \\\n",
       "0                     3                       1      5  1224892800   \n",
       "1                     3                       2      4  1212883200   \n",
       "\n",
       "                                        Summary  \\\n",
       "0             Bought This for My Son at College   \n",
       "1  Pure cocoa taste with crunchy almonds inside   \n",
       "\n",
       "                                                Text  \n",
       "0  My son loves spaghetti so I didn't hesitate or...  \n",
       "1  It was almost a 'love at first bite' - the per...  "
      ]
     },
     "execution_count": 16,
     "metadata": {},
     "output_type": "execute_result"
    }
   ],
   "source": [
    "display= pd.read_sql_query(\"\"\"\n",
    "SELECT *\n",
    "FROM Reviews\n",
    "WHERE Score != 3 AND Id=44737 OR Id=64422\n",
    "ORDER BY ProductID\n",
    "\"\"\", con)\n",
    "\n",
    "display.head()"
   ]
  },
  {
   "cell_type": "code",
   "execution_count": 18,
   "metadata": {},
   "outputs": [],
   "source": [
    "# Removing the reviews where HelpfullnessNumerator > HelpfulnessDenominator\n",
    "\n",
    "final=final[final.HelpfulnessNumerator<=final.HelpfulnessDenominator]"
   ]
  },
  {
   "cell_type": "code",
   "execution_count": 20,
   "metadata": {},
   "outputs": [
    {
     "name": "stdout",
     "output_type": "stream",
     "text": [
      "(363184, 10)\n",
      "Positive    306173\n",
      "Negative     57011\n",
      "Name: Score, dtype: int64\n"
     ]
    }
   ],
   "source": [
    "#Before starting the next phase of preprocessing lets see the number of entries left\n",
    "print(final.shape)\n",
    "\n",
    "#How many positive and negative reviews are present in our dataset?\n",
    "print(final['Score'].value_counts())"
   ]
  },
  {
   "cell_type": "markdown",
   "metadata": {},
   "source": [
    "#  [3] Preprocessing"
   ]
  },
  {
   "cell_type": "markdown",
   "metadata": {},
   "source": [
    "## [3.1].  Preprocessing Review Text\n",
    "\n",
    "Now that we have finished deduplication our data requires some preprocessing before we go on further with analysis and making the prediction model.\n",
    "\n",
    "Hence in the Preprocessing phase we do the following in the order below:-\n",
    "\n",
    "1. Begin by removing the html tags\n",
    "2. Remove any punctuations or limited set of special characters like , or . or # etc.\n",
    "3. Check if the word is made up of english letters and is not alpha-numeric\n",
    "4. Check to see if the length of the word is greater than 2 (as it was researched that there is no adjective in 2-letters)\n",
    "5. Convert the word to lowercase\n",
    "6. Remove Stopwords\n",
    "7. Finally Snowball Stemming the word (it was obsereved to be better than Porter Stemming)<br>\n",
    "\n",
    "After which we collect the words used to describe positive and negative reviews"
   ]
  },
  {
   "cell_type": "code",
   "execution_count": 42,
   "metadata": {},
   "outputs": [],
   "source": [
    "# remove urls from text python: https://stackoverflow.com/a/40823105/4084039\n",
    "# https://stackoverflow.com/questions/16206380/python-beautifulsoup-how-to-remove-all-tags-from-an-element\n",
    "from bs4 import BeautifulSoup"
   ]
  },
  {
   "cell_type": "code",
   "execution_count": 47,
   "metadata": {},
   "outputs": [],
   "source": [
    "# https://stackoverflow.com/a/47091490/4084039\n",
    "import re\n",
    "\n",
    "def decontracted(phrase):\n",
    "    # specific\n",
    "    phrase = re.sub(r\"won't\", \"will not\", phrase)\n",
    "    phrase = re.sub(r\"can\\'t\", \"can not\", phrase)\n",
    "\n",
    "    # general\n",
    "    phrase = re.sub(r\"n\\'t\", \" not\", phrase)\n",
    "    phrase = re.sub(r\"\\'re\", \" are\", phrase)\n",
    "    phrase = re.sub(r\"\\'s\", \" is\", phrase)\n",
    "    phrase = re.sub(r\"\\'d\", \" would\", phrase)\n",
    "    phrase = re.sub(r\"\\'ll\", \" will\", phrase)\n",
    "    phrase = re.sub(r\"\\'t\", \" not\", phrase)\n",
    "    phrase = re.sub(r\"\\'ve\", \" have\", phrase)\n",
    "    phrase = re.sub(r\"\\'m\", \" am\", phrase)\n",
    "    return phrase"
   ]
  },
  {
   "cell_type": "code",
   "execution_count": 43,
   "metadata": {},
   "outputs": [],
   "source": [
    "#remove words with numbers python: https://stackoverflow.com/a/18082370/4084039\n",
    "#remove spacial character: https://stackoverflow.com/a/5843547/4084039"
   ]
  },
  {
   "cell_type": "code",
   "execution_count": 116,
   "metadata": {},
   "outputs": [],
   "source": [
    "# https://gist.github.com/sebleier/554280\n",
    "# we are removing the words from the stop words list: 'no', 'nor', 'not'\n",
    "# <br /><br /> ==> after the above steps, we are getting \"br br\"\n",
    "# we are including them into stop words list\n",
    "# instead of <br /> if we have <br/> these tags would have revmoved in the 1st step\n",
    "\n",
    "stopwords = set(['br', 'the', 'i', 'me', 'my', 'myself', 'we', 'our', 'ours', 'ourselves', 'you', \"you're\", \"you've\",\\\n",
    "            \"you'll\", \"you'd\", 'your', 'yours', 'yourself', 'yourselves', 'he', 'him', 'his', 'himself', \\\n",
    "            'she', \"she's\", 'her', 'hers', 'herself', 'it', \"it's\", 'its', 'itself', 'they', 'them', 'their',\\\n",
    "            'theirs', 'themselves', 'what', 'which', 'who', 'whom', 'this', 'that', \"that'll\", 'these', 'those', \\\n",
    "            'am', 'is', 'are', 'was', 'were', 'be', 'been', 'being', 'have', 'has', 'had', 'having', 'do', 'does', \\\n",
    "            'did', 'doing', 'a', 'an', 'the', 'and', 'but', 'if', 'or', 'because', 'as', 'until', 'while', 'of', \\\n",
    "            'at', 'by', 'for', 'with', 'about', 'against', 'between', 'into', 'through', 'during', 'before', 'after',\\\n",
    "            'above', 'below', 'to', 'from', 'up', 'down', 'in', 'out', 'on', 'off', 'over', 'under', 'again', 'further',\\\n",
    "            'then', 'once', 'here', 'there', 'when', 'where', 'why', 'how', 'all', 'any', 'both', 'each', 'few', 'more',\\\n",
    "            'most', 'other', 'some', 'such', 'only', 'own', 'same', 'so', 'than', 'too', 'very', \\\n",
    "            's', 't', 'can', 'will', 'just', 'don', \"don't\", 'should', \"should've\", 'now', 'd', 'll', 'm', 'o', 're', \\\n",
    "            've', 'y', 'ain', 'aren', \"aren't\", 'couldn', \"couldn't\", 'didn', \"didn't\", 'doesn', \"doesn't\", 'hadn',\\\n",
    "            \"hadn't\", 'hasn', \"hasn't\", 'haven', \"haven't\", 'isn', \"isn't\", 'ma', 'mightn', \"mightn't\", 'mustn',\\\n",
    "            \"mustn't\", 'needn', \"needn't\", 'shan', \"shan't\", 'shouldn', \"shouldn't\", 'wasn', \"wasn't\", 'weren', \"weren't\", \\\n",
    "            'won', \"won't\", 'wouldn', \"wouldn't\"])"
   ]
  },
  {
   "cell_type": "code",
   "execution_count": 55,
   "metadata": {},
   "outputs": [
    {
     "name": "stdout",
     "output_type": "stream",
     "text": [
      "move\n"
     ]
    }
   ],
   "source": [
    "#Intializing SnowballStemmer\n",
    "snow_stemmer = SnowballStemmer('english')\n",
    "\n",
    "#Using Stemmer on a word\n",
    "print(snow_stemmer.stem('Moves'))"
   ]
  },
  {
   "cell_type": "code",
   "execution_count": 48,
   "metadata": {},
   "outputs": [
    {
     "name": "stderr",
     "output_type": "stream",
     "text": [
      "100%|████████████████████████████████████████████████████████████████████████| 363184/363184 [04:45<00:00, 1270.29it/s]\n"
     ]
    }
   ],
   "source": [
    "# Combining all the above to clean reviews\n",
    "from tqdm import tqdm\n",
    "preprocessed_reviews = []\n",
    "\n",
    "# tqdm is for printing the status bar\n",
    "for sentence in tqdm(final['Text'].values):\n",
    "    sentence = re.sub(r\"http\\S+\", \"\", sentence)\n",
    "    sentence = BeautifulSoup(sentence, 'lxml').get_text()\n",
    "    sentence = decontracted(sentence)\n",
    "    sentence = re.sub(\"\\S*\\d\\S*\", \"\", sentence).strip()\n",
    "    sentence = re.sub('[^A-Za-z]+', ' ', sentence)\n",
    "    # https://gist.github.com/sebleier/554280\n",
    "    sentence = ' '.join(e.lower() for e in sentence.split() if e.lower() not in stopwords)\n",
    "    preprocessed_reviews.append(sentence.strip())"
   ]
  },
  {
   "cell_type": "code",
   "execution_count": 64,
   "metadata": {},
   "outputs": [],
   "source": [
    "# Storing the preprocessed reviews and stemmed preprocessed reviews seperately.\n",
    "# We have performed the cleaning on the whole data so we can use it later on\n",
    "# models other than KNN that can handle high dimensional data gracefully.\n",
    "\n",
    "#############---- storing the data into .sqlite file ------########################\n",
    "# Reviews are present in preprocessed_reviews\n",
    "\n",
    "final['CleanedText'] = preprocessed_reviews\n",
    "    \n",
    "#Store the data into a sqlite database\n",
    "if not os.path.isfile('final.sqlite'):\n",
    "    conn = sqlite3.connect('final.sqlite')\n",
    "    c = conn.cursor()\n",
    "    conn.text_factory = str\n",
    "    final.to_sql('Reviews', conn,  schema=None, if_exists='replace', \\\n",
    "                 index=True, index_label=None, chunksize=None, dtype=None)\n",
    "    conn.close()"
   ]
  },
  {
   "cell_type": "code",
   "execution_count": 91,
   "metadata": {},
   "outputs": [],
   "source": [
    "# Performing stemming on the preprocessed reviews\n",
    "final['CleanedText'] = preprocessed_reviews\n",
    "stemmed_reviews = []\n",
    "\n",
    "for sentence in final['CleanedText'].values:\n",
    "    sentence = b' '.join((snow_stemmer.stem(word)).encode('utf8') for word in sentence.split())\n",
    "    stemmed_reviews.append(sentence)"
   ]
  },
  {
   "cell_type": "code",
   "execution_count": 85,
   "metadata": {},
   "outputs": [],
   "source": [
    "final['CleanedText'] = stemmed_reviews\n",
    "final['CleanedText'] = final['CleanedText'].str.decode(\"utf-8\")\n",
    "\n",
    "if not os.path.isfile('final_stemmedreviews.sqlite'):\n",
    "    conn = sqlite3.connect('final_stemmedreviews.sqlite')\n",
    "    c = conn.cursor()\n",
    "    conn.text_factory = str\n",
    "    final.to_sql('Reviews', conn,  schema=None, if_exists='replace', \\\n",
    "                 index=True, index_label=None, chunksize=None, dtype=None)\n",
    "    conn.close()"
   ]
  },
  {
   "cell_type": "code",
   "execution_count": 2,
   "metadata": {},
   "outputs": [],
   "source": [
    "# Load the preprocessed dataset from the database final.sqlite\n",
    "# Data is ordered by time stamps to facilitate time base splitting\n",
    "# of data for cross validation \n",
    "\n",
    "conn = sqlite3.connect('final.sqlite')\n",
    "final = pd.read_sql_query(\"\"\"SELECT * From Reviews ORDER BY Time\"\"\", conn)\n",
    "conn.close()\n",
    "\n",
    "conn = sqlite3.connect('final_stemmedreviews.sqlite')\n",
    "final_stemmed = pd.read_sql_query(\"\"\"SELECT * From Reviews ORDER BY Time\"\"\", conn)\n",
    "conn.close()"
   ]
  },
  {
   "cell_type": "code",
   "execution_count": 3,
   "metadata": {},
   "outputs": [
    {
     "data": {
      "text/html": [
       "<div>\n",
       "<style scoped>\n",
       "    .dataframe tbody tr th:only-of-type {\n",
       "        vertical-align: middle;\n",
       "    }\n",
       "\n",
       "    .dataframe tbody tr th {\n",
       "        vertical-align: top;\n",
       "    }\n",
       "\n",
       "    .dataframe thead th {\n",
       "        text-align: right;\n",
       "    }\n",
       "</style>\n",
       "<table border=\"1\" class=\"dataframe\">\n",
       "  <thead>\n",
       "    <tr style=\"text-align: right;\">\n",
       "      <th></th>\n",
       "      <th>index</th>\n",
       "      <th>Id</th>\n",
       "      <th>ProductId</th>\n",
       "      <th>UserId</th>\n",
       "      <th>ProfileName</th>\n",
       "      <th>HelpfulnessNumerator</th>\n",
       "      <th>HelpfulnessDenominator</th>\n",
       "      <th>Score</th>\n",
       "      <th>Time</th>\n",
       "      <th>Summary</th>\n",
       "      <th>Text</th>\n",
       "      <th>CleanedText</th>\n",
       "    </tr>\n",
       "  </thead>\n",
       "  <tbody>\n",
       "    <tr>\n",
       "      <th>0</th>\n",
       "      <td>138706</td>\n",
       "      <td>150524</td>\n",
       "      <td>0006641040</td>\n",
       "      <td>ACITT7DI6IDDL</td>\n",
       "      <td>shari zychinski</td>\n",
       "      <td>0</td>\n",
       "      <td>0</td>\n",
       "      <td>Positive</td>\n",
       "      <td>939340800</td>\n",
       "      <td>EVERY book is educational</td>\n",
       "      <td>this witty little book makes my son laugh at l...</td>\n",
       "      <td>witty little book makes son laugh loud recite ...</td>\n",
       "    </tr>\n",
       "  </tbody>\n",
       "</table>\n",
       "</div>"
      ],
      "text/plain": [
       "    index      Id   ProductId         UserId      ProfileName  \\\n",
       "0  138706  150524  0006641040  ACITT7DI6IDDL  shari zychinski   \n",
       "\n",
       "   HelpfulnessNumerator  HelpfulnessDenominator     Score       Time  \\\n",
       "0                     0                       0  Positive  939340800   \n",
       "\n",
       "                     Summary  \\\n",
       "0  EVERY book is educational   \n",
       "\n",
       "                                                Text  \\\n",
       "0  this witty little book makes my son laugh at l...   \n",
       "\n",
       "                                         CleanedText  \n",
       "0  witty little book makes son laugh loud recite ...  "
      ]
     },
     "execution_count": 3,
     "metadata": {},
     "output_type": "execute_result"
    }
   ],
   "source": [
    "# There is an extra index column in the data\n",
    "final.head(1)"
   ]
  },
  {
   "cell_type": "code",
   "execution_count": 4,
   "metadata": {},
   "outputs": [],
   "source": [
    "#Removing the index column from data\n",
    "clean_data = final.drop(['index'], axis=1)\n",
    "\n",
    "#clean_data_stemmed = final_stemmed.drop(['index'], axis=1)\n",
    "\n",
    "# Map postive to 1 and negative to 0 in Score column\n",
    "score = clean_data['Score']\n",
    "bin_score = score.map(lambda x: 1 if x == \"Positive\" else 0)\n",
    "clean_data['Score'] = bin_score\n",
    "\n",
    "# Add stemmed reviews as an extra column in the data\n",
    "# This will be in addition to the preprocessed non stemmed\n",
    "# reviews which are stored in the CleanedText column.\n",
    "\n",
    "stemmed_reviews = final_stemmed['CleanedText']\n",
    "clean_data['StemmedText'] = stemmed_reviews"
   ]
  },
  {
   "cell_type": "code",
   "execution_count": 5,
   "metadata": {},
   "outputs": [],
   "source": [
    "# Adding another feature into the data\n",
    "# we will find the length of the each review\n",
    "# and add that as a feature into the existing\n",
    "# dataframe.\n",
    "\n",
    "clean_data['Reviewlen'] = clean_data['StemmedText'].apply(len)"
   ]
  },
  {
   "cell_type": "code",
   "execution_count": 6,
   "metadata": {},
   "outputs": [
    {
     "name": "stdout",
     "output_type": "stream",
     "text": [
      "(70000, 13) \n",
      " (30000, 13)\n"
     ]
    }
   ],
   "source": [
    "# Split the dataset in training and test dataset\n",
    "# We will use the training data for cross validation and training.\n",
    "# Test data will not be known to model and will be used\n",
    "# to calculate the accuracy.\n",
    "\n",
    "# Data is split in 70-30 train-test split using slicing since \n",
    "# data is sorted in ascending time order\n",
    "\n",
    "# Instead of splitting the data and then sampling\n",
    "# let's try to split the 100k samples directly and\n",
    "# then just simple time split the data in 70-30k\n",
    "\n",
    "data = clean_data.iloc[:,:]\n",
    "subset_data = data.iloc[100000:200000,:]\n",
    "\n",
    "train_cv_split = 70000\n",
    "\n",
    "train = subset_data.iloc[:train_cv_split,:]\n",
    "test = subset_data.iloc[train_cv_split:,:]\n",
    "\n",
    "print(train.shape , '\\n', test.shape)"
   ]
  },
  {
   "cell_type": "code",
   "execution_count": 7,
   "metadata": {},
   "outputs": [
    {
     "name": "stdout",
     "output_type": "stream",
     "text": [
      "(11235, 13)\n",
      "(4961, 13)\n"
     ]
    }
   ],
   "source": [
    "print(train[train['Score'] == 0].shape)\n",
    "print(test[test['Score'] == 0].shape)"
   ]
  },
  {
   "cell_type": "code",
   "execution_count": 8,
   "metadata": {},
   "outputs": [
    {
     "name": "stdout",
     "output_type": "stream",
     "text": [
      "(70000, 12) (70000,) \n",
      " (30000, 12) (30000,)\n"
     ]
    }
   ],
   "source": [
    "# Seperating the Score column from rest of the data\n",
    "columns = list(clean_data.columns)\n",
    "columns = [column for column in columns if column != 'Score']\n",
    "\n",
    "X_train = train[columns]\n",
    "y_train = train['Score']\n",
    "\n",
    "X_test = test[columns]\n",
    "y_test = test['Score']\n",
    "\n",
    "print(X_train.shape , y_train.shape, '\\n', X_test.shape, y_test.shape)"
   ]
  },
  {
   "cell_type": "code",
   "execution_count": 9,
   "metadata": {},
   "outputs": [],
   "source": [
    "# Save the y_train and y_test so we\n",
    "# can directly use it later rather than rerunning\n",
    "# the splitting steps again\n",
    "\n",
    "pkl.dump(y_train, open(\"y_train.pkl\", 'wb'))\n",
    "pkl.dump(y_test, open(\"y_test.pkl\", 'wb'))"
   ]
  },
  {
   "cell_type": "markdown",
   "metadata": {},
   "source": [
    "<h2><font color='red'>[3.2] Preprocessing Review Summary</font></h2>"
   ]
  },
  {
   "cell_type": "code",
   "execution_count": 6,
   "metadata": {},
   "outputs": [],
   "source": [
    "## Similartly you can do preprocessing for review summary also."
   ]
  },
  {
   "cell_type": "markdown",
   "metadata": {},
   "source": [
    "# [4] Featurization"
   ]
  },
  {
   "cell_type": "markdown",
   "metadata": {},
   "source": [
    "## [4.1] BAG OF WORDS"
   ]
  },
  {
   "cell_type": "code",
   "execution_count": 105,
   "metadata": {},
   "outputs": [],
   "source": [
    "# Running count vectorizer on training data only\n",
    "# to avoid data leakage\n",
    "# we will use the uni-grams & bi-grams in BoW embedding\n",
    "# count_vect = CountVectorizer(ngram_range=(1,2), min_df=10, max_features=5000)\n",
    "count_vec = CountVectorizer(ngram_range=(1,2), min_df=10)\n",
    "\n",
    "X_train_bow = count_vec.fit_transform(X_train['StemmedText'].values)\n",
    "X_test_bow = count_vec.transform(X_test['StemmedText'].values)\n",
    "\n",
    "# Save the training and test BOW vectors in pickle files\n",
    "# We can simply load this data later and use it\n",
    "\n",
    "pkl.dump(X_train_bow, open(\"train_bow.pkl\", 'wb'))\n",
    "pkl.dump(X_test_bow, open(\"test_bow.pkl\", 'wb'))\n",
    "pkl.dump(count_vec, open(\"count_vec.pkl\", 'wb'))"
   ]
  },
  {
   "cell_type": "markdown",
   "metadata": {},
   "source": [
    "## [4.2] TF-IDF"
   ]
  },
  {
   "cell_type": "code",
   "execution_count": 106,
   "metadata": {},
   "outputs": [],
   "source": [
    "# Apply tfidf vectorizer to convert text to vectors\n",
    "\n",
    "tf_idf = TfidfVectorizer(ngram_range=(1,2), min_df=10)\n",
    "\n",
    "X_train_tfidf = tf_idf.fit_transform(X_train['StemmedText'].values)\n",
    "X_test_tfidf = tf_idf.transform(X_test['StemmedText'].values)\n",
    "\n",
    "# Save the training, CV and test TFIDF vectors in pickle files\n",
    "# We can simply load this data later and use it\n",
    "\n",
    "pkl.dump(X_train_tfidf, open(\"train_tfidf.pkl\", 'wb'))\n",
    "pkl.dump(X_test_tfidf, open(\"test_tfidf.pkl\", 'wb'))\n",
    "pkl.dump(count_vec, open(\"tf_idf.pkl\", 'wb'))"
   ]
  },
  {
   "cell_type": "code",
   "execution_count": 107,
   "metadata": {},
   "outputs": [],
   "source": [
    "# Creating a dictionary with word as key and it's tfidf representation as value\n",
    "dictionary = dict(zip(tf_idf.get_feature_names(), list(tf_idf.idf_)))\n",
    "\n",
    "pkl.dump(dictionary, open(\"tfidf_dictionary.pkl\", 'wb'))"
   ]
  },
  {
   "cell_type": "markdown",
   "metadata": {},
   "source": [
    "## Utility Functions used in Multinomial Naive Bayes classification"
   ]
  },
  {
   "cell_type": "code",
   "execution_count": 29,
   "metadata": {},
   "outputs": [],
   "source": [
    "# This function takes the vector representation of review data \n",
    "# and returns the optimal alpha for MultinomailNB classification \n",
    "# using 5-fold cross validation.\n",
    "\n",
    "# Code below splits the TimeSeries data in linear fashion including\n",
    "# another split of data progressively with each iteration.\n",
    "\n",
    "def get_optimal_alpha(X_train_data, y_train_data, vect, flag, n_splits=5):\n",
    "    auc_scores_cv = []\n",
    "    auc_scores_train = []\n",
    "    alpha_values = [10**i for i in range(-5,6)]\n",
    "\n",
    "    lot_size = int(X_train_data.shape[0] / n_splits)\n",
    "    X_train_start = 0\n",
    "    X_train_end = 0\n",
    "    X_cv_start = 0\n",
    "    X_cv_end = 0\n",
    "\n",
    "    for alpha in alpha_values:\n",
    "        avg_scores_cv = []\n",
    "        avg_scores_train = []\n",
    "        for i in range(1, n_splits):\n",
    "            X_train_end = lot_size*i\n",
    "            X_cv_start = X_train_end\n",
    "            X_cv_end = X_cv_start + lot_size\n",
    "            #print(X_train_start, X_train_end, X_cv_start, X_cv_end)\n",
    "            X_train = X_train_data.iloc[X_train_start:X_train_end, :]\n",
    "            X_cv = X_train_data.iloc[X_cv_start:X_cv_end, :]\n",
    "            y_train = y_train_data.iloc[X_train_start:X_train_end]\n",
    "            y_cv = y_train_data.iloc[X_cv_start:X_cv_end]\n",
    "            #print(y_train.shape, y_cv.shape)\n",
    "\n",
    "            X_train_revlen = np.array(X_train['Reviewlen'].values).astype(float)\n",
    "            X_cv_revlen = np.array(X_cv['Reviewlen'].values).astype(float)\n",
    "\n",
    "            # Running vectorizer on X_train to tranform text to vector\n",
    "            if vect == \"bow\":\n",
    "                count_vec = CountVectorizer(ngram_range=(1,2), min_df=10)\n",
    "                X_train_vec = count_vec.fit_transform(X_train['StemmedText'].values)\n",
    "                X_cv_vec = count_vec.transform(X_cv['StemmedText'].values)\n",
    "            else:\n",
    "                tf_idf = TfidfVectorizer(ngram_range=(1,2), min_df=10)\n",
    "                X_train_vec = tf_idf.fit_transform(X_train['StemmedText'].values)\n",
    "                X_cv_vec = tf_idf.transform(X_cv['StemmedText'].values)\n",
    "\n",
    "            # hstack here helps in adding the new review length column to the \n",
    "            # existing text vectors. Based of flag value we add it if we are \n",
    "            # considering review length as an additional feature.\n",
    "            if flag == 1:\n",
    "                X_train_vec = hstack((X_train_vec,X_train_revlen[:,None])).tocsr()\n",
    "                X_cv_vec = hstack((X_cv_vec,X_cv_revlen[:,None])).tocsr()\n",
    "\n",
    "            std = StandardScaler(with_mean=False)\n",
    "\n",
    "            # Standardizing the vectors\n",
    "            X_train = std.fit_transform(X_train_vec)\n",
    "            X_cv = std.transform(X_cv_vec)\n",
    "\n",
    "            nb_clf = MultinomialNB(alpha=alpha)\n",
    "            nb_clf.fit(X_train, y_train)\n",
    "\n",
    "            y_pred_cv = nb_clf.predict_proba(X_cv)[:,1]\n",
    "            y_pred_train = nb_clf.predict_proba(X_train)[:,1]\n",
    "\n",
    "            fpr_cv, tpr_cv, thresholds_cv = roc_curve(y_cv, y_pred_cv)\n",
    "            avg_score_cv = auc(fpr_cv, tpr_cv)\n",
    "\n",
    "            fpr_train, tpr_train, thresholds_train = roc_curve(y_train, y_pred_train)\n",
    "            avg_score_train = auc(fpr_train, tpr_train)\n",
    "\n",
    "            avg_scores_cv.append(avg_score_cv)\n",
    "            avg_scores_train.append(avg_score_train)\n",
    "\n",
    "        auc_score = round(sum(avg_scores_cv) / float(len(avg_scores_cv)), 2)\n",
    "        auc_scores_cv.append(auc_score)\n",
    "\n",
    "        auc_score = round(sum(avg_scores_train) / float(len(avg_scores_train)), 2)\n",
    "        auc_scores_train.append(auc_score)\n",
    "\n",
    "        #print(\"Accuracy on CV data with k = {} is {}%\".format(k, round(auc_score, 2)))\n",
    "    return alpha_values[auc_scores_cv.index(max(auc_scores_cv))],\\\n",
    "                    zip(alpha_values, auc_scores_train), zip(alpha_values, auc_scores_cv)"
   ]
  },
  {
   "cell_type": "code",
   "execution_count": 26,
   "metadata": {},
   "outputs": [],
   "source": [
    "# Running MultinomialNB with given alpha\n",
    "# returns a tuple indicating AUC obtained for\n",
    "# test data along with the confusion matrix along with the classifier\n",
    "# object same function can be used on all vectorized data irrespective \n",
    "# of vectorizer\n",
    "\n",
    "def run_nb(X_train, y_train, X_test, y_test, alpha):\n",
    "    nb_clf = MultinomialNB(alpha=alpha)\n",
    "    nb_clf.fit(X_train, y_train)\n",
    "\n",
    "    y_pred_test = nb_clf.predict_proba(X_test)\n",
    "    y_pred_train = nb_clf.predict_proba(X_train)\n",
    "\n",
    "    y_pred_test_prob = y_pred_test[:,1]\n",
    "    y_pred_test_label = np.argmax(y_pred_test, axis=1)\n",
    "\n",
    "    y_pred_train_prob = y_pred_train[:,1]\n",
    "    y_pred_train_label = np.argmax(y_pred_train, axis=1)\n",
    "\n",
    "    fpr_test, tpr_test, thresholds_test = roc_curve(y_test,\\\n",
    "                                                    y_pred_test_prob)\n",
    "    auc_score_test = auc(fpr_test, tpr_test)\n",
    "\n",
    "    fpr_train, tpr_train, thresholds_train = roc_curve(y_train, \\\n",
    "                                                       y_pred_train_prob)\n",
    "    auc_score_train = auc(fpr_train, tpr_train)\n",
    "\n",
    "    conf_mat = confusion_matrix(y_test, y_pred_test_label)\n",
    "\n",
    "    plt.figure()\n",
    "    plt.plot(fpr_train, tpr_train, color='darkorange', lw=1, \\\n",
    "             label='Train ROC curve (area = %0.2f)' % auc_score_train)\n",
    "    plt.plot(fpr_test, tpr_test, color='navy', lw=1, \\\n",
    "             label='Test ROC curve (area = %0.2f)' % auc_score_test)\n",
    "    plt.plot([0, 1], [0, 1], color='black', lw=1, linestyle='--')\n",
    "    plt.xlim([0.0, 1.0])\n",
    "    plt.ylim([0.0, 1.0])\n",
    "    plt.xlabel('False Positive Rate')\n",
    "    plt.ylabel('True Positive Rate')\n",
    "    plt.title('Receiver operating characteristic')\n",
    "    plt.legend(loc=\"lower right\")\n",
    "    plt.show()\n",
    "\n",
    "    return nb_clf, auc_score_test, conf_mat"
   ]
  },
  {
   "cell_type": "code",
   "execution_count": 27,
   "metadata": {},
   "outputs": [],
   "source": [
    "def plot_confusion_matrix(cm):\n",
    "    labels = ['Negative', 'Positive']\n",
    "    confmat = pd.DataFrame(cm, index = labels, columns = labels)\n",
    "    sns.heatmap(confmat, annot = True, fmt = 'd', cmap=\"Greens\")\n",
    "    plt.title(\"Confusion Matrix\")\n",
    "    plt.xlabel(\"Predicted Label\")\n",
    "    plt.ylabel(\"True Label\")\n",
    "    plt.show()"
   ]
  },
  {
   "cell_type": "code",
   "execution_count": 30,
   "metadata": {},
   "outputs": [],
   "source": [
    "# All the results will be stored in the results dataframe and\n",
    "# later in we will use this dataframe to print the results\n",
    "# in tabular format\n",
    "\n",
    "results = pd.DataFrame(columns=['Features-Used', 'Vectorizer', 'Alpha', 'AUC'])"
   ]
  },
  {
   "cell_type": "code",
   "execution_count": 31,
   "metadata": {},
   "outputs": [],
   "source": [
    "import prettytable as pt\n",
    "# function to print the results obtained in a table format\n",
    "def print_results(data):\n",
    "    result = PrettyTable(hrules=pt.ALL, \n",
    "                         vrules=pt.ALL, padding_width=5)\n",
    "    result.field_names = list(data.columns)\n",
    "    for i in range(0, data.shape[0]):\n",
    "        result.add_row(data.iloc[i])\n",
    "\n",
    "    #result.align[\"Vectorizer\"] = \"l\"\n",
    "    print(result)"
   ]
  },
  {
   "cell_type": "markdown",
   "metadata": {},
   "source": [
    "# Applying Multinomial Naive Bayes"
   ]
  },
  {
   "cell_type": "markdown",
   "metadata": {},
   "source": [
    "## [5.1.1] Applying Naive Bayes on BOW,<font color='red'> SET 1</font>"
   ]
  },
  {
   "cell_type": "code",
   "execution_count": 33,
   "metadata": {},
   "outputs": [
    {
     "name": "stdout",
     "output_type": "stream",
     "text": [
      "Optimal value of alpha : 100\n"
     ]
    },
    {
     "data": {
      "image/png": "[encoded data removed]",
      "text/plain": [
       "<Figure size 432x288 with 1 Axes>"
      ]
     },
     "metadata": {},
     "output_type": "display_data"
    },
    {
     "data": {
      "image/png": "[encoded data removed]",
      "text/plain": [
       "<Figure size 432x288 with 1 Axes>"
      ]
     },
     "metadata": {},
     "output_type": "display_data"
    },
    {
     "name": "stdout",
     "output_type": "stream",
     "text": [
      "AUC score:\n",
      " 0.90\n"
     ]
    },
    {
     "data": {
      "image/png": "[encoded data removed]",
      "text/plain": [
       "<Figure size 432x288 with 2 Axes>"
      ]
     },
     "metadata": {},
     "output_type": "display_data"
    }
   ],
   "source": [
    "# Load the saved vectorized data for train-test datapoints\n",
    "X_train_bow = pkl.load(open('train_bow.pkl', 'rb'))\n",
    "X_test_bow = pkl.load(open('test_bow.pkl', 'rb'))\n",
    "\n",
    "std = StandardScaler( with_mean=False)\n",
    "\n",
    "# Standardizing the vectors\n",
    "X_train_bow_std = std.fit_transform(X_train_bow)\n",
    "X_test_bow_std = std.transform(X_test_bow)\n",
    "\n",
    "# Getting an optimal value of hyperparameter alpha and AUC scores\n",
    "# This data is used to plot a graph of alpha-values vs AUC\n",
    "# To tackle the problem of data leakage, while trying hyperparameter\n",
    "# tuning using k-fold cv, we will vectorize the data after split into \n",
    "# train and cv inside get_optimal_alpha()\n",
    "\n",
    "optimal_alpha, alpha_auc_train, alpha_auc_cv = get_optimal_alpha(X_train, y_train, \"bow\", 0)\n",
    "print(\"Optimal value of alpha : {}\".format(optimal_alpha))\n",
    "\n",
    "train_auc = [(alpha, train_auc) for alpha, train_auc in alpha_auc_train]\n",
    "cv_auc = [(alpha, cv_auc) for alpha, cv_auc in alpha_auc_cv]\n",
    "\n",
    "# Plotting K values vs AUC scores\n",
    "\n",
    "plt.title(\"Alpha vs AUC\")\n",
    "plt.xlabel(\"Hyperparameter(alpha)\")\n",
    "plt.ylabel(\"Area under ROC curve\")\n",
    "plt.plot(*(zip(*train_auc)), label='Train_AUC')\n",
    "plt.plot(*(zip(*cv_auc)), label='Validation_AUC')\n",
    "plt.legend()\n",
    "plt.show()\n",
    "\n",
    "# Running Multinomial NB with optimal alpha value obtained\n",
    "nb_clf, auc_score, conf_mat = run_nb(X_train_bow_std, y_train, \n",
    "                                      X_test_bow_std, y_test, optimal_alpha)\n",
    "\n",
    "print(\"AUC score:\\n {:.2f}\".format(auc_score))\n",
    "\n",
    "# Plotting confusion matrix\n",
    "plot_confusion_matrix(conf_mat)\n",
    "\n",
    "auc_score = '%0.2f' % auc_score\n",
    "# Adding the results to our results dataframe\n",
    "results.loc[results.shape[0]] = [\"Review Text\", \"BoW\", optimal_alpha, auc_score]"
   ]
  },
  {
   "cell_type": "markdown",
   "metadata": {},
   "source": [
    "## [5.1.2] Top 10 important features of positive class from<font color='red'> SET 1</font>"
   ]
  },
  {
   "cell_type": "code",
   "execution_count": 34,
   "metadata": {},
   "outputs": [],
   "source": [
    "# Loading the saved count vectorizer object\n",
    "count_vec = pkl.load(open(\"count_vec.pkl\", 'rb'))"
   ]
  },
  {
   "cell_type": "code",
   "execution_count": 38,
   "metadata": {
    "scrolled": true
   },
   "outputs": [
    {
     "name": "stdout",
     "output_type": "stream",
     "text": [
      "['not' 'love' 'great' 'good' 'like' 'tast' 'one' 'tri' 'use' 'flavor']\n"
     ]
    }
   ],
   "source": [
    "# Top 10 features in positive class\n",
    "max_ind_pos=np.argsort((nb_clf.feature_log_prob_)[1])[::-1][0:10]\n",
    "print(np.take(count_vec.get_feature_names(), max_ind_pos))"
   ]
  },
  {
   "cell_type": "markdown",
   "metadata": {},
   "source": [
    "## [5.1.3] Top 10 important features of negative class from<font color='red'> SET 1</font>"
   ]
  },
  {
   "cell_type": "code",
   "execution_count": 39,
   "metadata": {},
   "outputs": [
    {
     "name": "stdout",
     "output_type": "stream",
     "text": [
      "['not' 'tast' 'like' 'disappoint' 'product' 'would' 'bad' 'buy' 'not buy'\n",
      " 'one']\n"
     ]
    }
   ],
   "source": [
    "# Top 10 features in negative class\n",
    "max_ind_neg=np.argsort((nb_clf.feature_log_prob_)[0])[::-1][0:10]\n",
    "print(np.take(count_vec.get_feature_names(), max_ind_neg))"
   ]
  },
  {
   "cell_type": "markdown",
   "metadata": {},
   "source": [
    "## [5.1.2] Naive Bayes on BoW with Review length as new feature<font color='red'> SET 1</font>"
   ]
  },
  {
   "cell_type": "code",
   "execution_count": 40,
   "metadata": {},
   "outputs": [
    {
     "name": "stdout",
     "output_type": "stream",
     "text": [
      "Optimal value of alpha : 100\n"
     ]
    },
    {
     "data": {
      "image/png": "[encoded data removed]",
      "text/plain": [
       "<Figure size 432x288 with 1 Axes>"
      ]
     },
     "metadata": {},
     "output_type": "display_data"
    },
    {
     "data": {
      "image/png": "[encoded data removed]",
      "text/plain": [
       "<Figure size 432x288 with 1 Axes>"
      ]
     },
     "metadata": {},
     "output_type": "display_data"
    },
    {
     "name": "stdout",
     "output_type": "stream",
     "text": [
      "AUC score:\n",
      " 0.90\n"
     ]
    },
    {
     "data": {
      "image/png": "[encoded data removed]",
      "text/plain": [
       "<Figure size 432x288 with 2 Axes>"
      ]
     },
     "metadata": {},
     "output_type": "display_data"
    }
   ],
   "source": [
    "# Load the saved vectorized data for train-test datapoints\n",
    "X_train_bow = pkl.load(open('train_bow.pkl', 'rb'))\n",
    "X_test_bow = pkl.load(open('test_bow.pkl', 'rb'))\n",
    "\n",
    "# We will add review length as new feature with our vectorized\n",
    "# data and train the model on this. We have calculated\n",
    "# review length in main dataframe and has been added as a \n",
    "# seperate column and can be accessed with X_train['Reviewlen']\n",
    "\n",
    "X_train_revlen = np.array(X_train['Reviewlen'].values)\n",
    "X_test_revlen = np.array(X_test['Reviewlen'].values)\n",
    "\n",
    "# hstack here helps in adding the new review length column to the \n",
    "# existing text vectors.\n",
    "\n",
    "X_train_bow = hstack((X_train_bow,X_train_revlen[:,None])).tocsr()\n",
    "X_test_bow = hstack((X_test_bow,X_test_revlen[:,None])).tocsr()\n",
    "\n",
    "# We will standardize the whole data including review length\n",
    "std = StandardScaler( with_mean=False)\n",
    "\n",
    "# Standardizing the vectors\n",
    "X_train_bow_std = std.fit_transform(X_train_bow)\n",
    "X_test_bow_std = std.transform(X_test_bow)\n",
    "\n",
    "# Getting an optimal value of hyperparameter alpha and AUC scores\n",
    "# This data is used to plot a graph of alpha-values vs AUC\n",
    "optimal_alpha, alpha_auc_train, alpha_auc_cv = get_optimal_alpha(X_train, y_train, 'bow', 1)\n",
    "print(\"Optimal value of alpha : {}\".format(optimal_alpha))\n",
    "\n",
    "train_auc = [(alpha, train_auc) for alpha, train_auc in alpha_auc_train]\n",
    "cv_auc = [(alpha, cv_auc) for alpha, cv_auc in alpha_auc_cv]\n",
    "\n",
    "# Plotting Alpha hyperparameter values vs AUC scores\n",
    "\n",
    "plt.title(\"Alpha vs AUC\")\n",
    "plt.xlabel(\"Hyperparameter(alpha)\")\n",
    "plt.ylabel(\"Area under ROC curve\")\n",
    "plt.plot(*(zip(*train_auc)), label='Train_AUC')\n",
    "plt.plot(*(zip(*cv_auc)), label='Validation_AUC')\n",
    "plt.legend()\n",
    "plt.show()\n",
    "\n",
    "# Running Multinomial NB with optimal alpha value obtained\n",
    "nb_clf, auc_score, conf_mat = run_nb(X_train_bow_std, y_train, \n",
    "                                      X_test_bow_std, y_test, optimal_alpha)\n",
    "\n",
    "print(\"AUC score:\\n {:.2f}\".format(auc_score))\n",
    "\n",
    "# Plotting confusion matrix\n",
    "plot_confusion_matrix(conf_mat)\n",
    "\n",
    "auc_score = '%0.2f' % auc_score\n",
    "\n",
    "# Adding the results to our results dataframe\n",
    "results.loc[results.shape[0]] = [\"Review Text/ Review Length\", \"BoW\", optimal_alpha, auc_score]"
   ]
  },
  {
   "cell_type": "markdown",
   "metadata": {},
   "source": [
    "## [5.2.1] Applying Naive Bayes on TFIDF,<font color='red'> SET 2</font>"
   ]
  },
  {
   "cell_type": "code",
   "execution_count": 41,
   "metadata": {},
   "outputs": [
    {
     "name": "stdout",
     "output_type": "stream",
     "text": [
      "Optimal value of alpha : 100\n"
     ]
    },
    {
     "data": {
      "image/png": "[encoded data removed]",
      "text/plain": [
       "<Figure size 432x288 with 1 Axes>"
      ]
     },
     "metadata": {},
     "output_type": "display_data"
    },
    {
     "data": {
      "image/png": "[encoded data removed]",
      "text/plain": [
       "<Figure size 432x288 with 1 Axes>"
      ]
     },
     "metadata": {},
     "output_type": "display_data"
    },
    {
     "name": "stdout",
     "output_type": "stream",
     "text": [
      "AUC score:\n",
      " 0.90\n"
     ]
    },
    {
     "data": {
      "image/png": "[encoded data removed]",
      "text/plain": [
       "<Figure size 432x288 with 2 Axes>"
      ]
     },
     "metadata": {},
     "output_type": "display_data"
    }
   ],
   "source": [
    "# Load the saved vectorized data for train-test datapoints\n",
    "X_train_tfidf = pkl.load(open('train_tfidf.pkl', 'rb'))\n",
    "X_test_tfidf = pkl.load(open('test_tfidf.pkl', 'rb'))\n",
    "\n",
    "std = StandardScaler( with_mean=False)\n",
    "\n",
    "# Standardizing the vectors\n",
    "X_train_tfidf_std = std.fit_transform(X_train_tfidf)\n",
    "X_test_tfidf_std = std.transform(X_test_tfidf)\n",
    "\n",
    "# Getting an optimal value of hyperparameter alpha and AUC scores\n",
    "# This data is used to plot a graph of alpha-values vs AUC\n",
    "optimal_alpha, alpha_auc_train, alpha_auc_cv = get_optimal_alpha(X_train, y_train, 'tfidf', 0)\n",
    "print(\"Optimal value of alpha : {}\".format(optimal_alpha))\n",
    "\n",
    "train_auc = [(alpha, train_auc) for alpha, train_auc in alpha_auc_train]\n",
    "cv_auc = [(alpha, cv_auc) for alpha, cv_auc in alpha_auc_cv]\n",
    "\n",
    "# Plotting K values vs AUC scores\n",
    "\n",
    "plt.title(\"Alpha vs AUC\")\n",
    "plt.xlabel(\"Hyperparameter(alpha)\")\n",
    "plt.ylabel(\"Area under ROC curve\")\n",
    "plt.plot(*(zip(*train_auc)), label='Train_AUC')\n",
    "plt.plot(*(zip(*cv_auc)), label='Validation_AUC')\n",
    "plt.legend()\n",
    "plt.show()\n",
    "\n",
    "# Running Multinomial NB with optimal alpha value obtained\n",
    "nb_clf, auc_score, conf_mat = run_nb(X_train_tfidf_std, y_train, \n",
    "                                      X_test_tfidf_std, y_test, optimal_alpha)\n",
    "\n",
    "print(\"AUC score:\\n {:.2f}\".format(auc_score))\n",
    "\n",
    "# Plotting confusion matrix\n",
    "plot_confusion_matrix(conf_mat)\n",
    "\n",
    "auc_score = '%0.2f' % auc_score\n",
    "\n",
    "# Adding the results to our results dataframe\n",
    "results.loc[results.shape[0]] = [\"Review Text\", \"TF-IDF\", optimal_alpha, auc_score]"
   ]
  },
  {
   "cell_type": "markdown",
   "metadata": {},
   "source": [
    "## [5.2.2] Top 10 important features of positive class from<font color='red'> SET 2</font>"
   ]
  },
  {
   "cell_type": "code",
   "execution_count": 42,
   "metadata": {},
   "outputs": [
    {
     "name": "stdout",
     "output_type": "stream",
     "text": [
      "['not' 'love' 'like' 'great' 'good' 'tast' 'flavor' 'one' 'use' 'tri']\n"
     ]
    }
   ],
   "source": [
    "# Load the tf-idf vectorizer we saved earlier\n",
    "tf_idf = pkl.load(open('tf_idf.pkl', 'rb'))\n",
    "# Top 10 features in positive class\n",
    "max_ind_pos=np.argsort((nb_clf.feature_log_prob_)[1])[::-1][0:10]\n",
    "print(np.take(count_vec.get_feature_names(), max_ind_pos))"
   ]
  },
  {
   "cell_type": "markdown",
   "metadata": {},
   "source": [
    "## [5.2.3] Top 10 important features of negative class from<font color='red'> SET 2</font>"
   ]
  },
  {
   "cell_type": "code",
   "execution_count": 43,
   "metadata": {},
   "outputs": [
    {
     "name": "stdout",
     "output_type": "stream",
     "text": [
      "['not' 'tast' 'like' 'would' 'product' 'disappoint' 'bad' 'one' 'not buy'\n",
      " 'tri']\n"
     ]
    }
   ],
   "source": [
    "# Top 10 features in negative class\n",
    "max_ind_neg=np.argsort((nb_clf.feature_log_prob_)[0])[::-1][0:10]\n",
    "print(np.take(count_vec.get_feature_names(), max_ind_neg))"
   ]
  },
  {
   "cell_type": "markdown",
   "metadata": {},
   "source": [
    "## [5.2.2] Naive Bayes on TFIDF with Review length as new feature<font color='red'> SET 2</font>"
   ]
  },
  {
   "cell_type": "code",
   "execution_count": 44,
   "metadata": {},
   "outputs": [
    {
     "name": "stdout",
     "output_type": "stream",
     "text": [
      "Optimal value of alpha : 100\n"
     ]
    },
    {
     "data": {
      "image/png": "[encoded data removed]",
      "text/plain": [
       "<Figure size 432x288 with 1 Axes>"
      ]
     },
     "metadata": {},
     "output_type": "display_data"
    },
    {
     "data": {
      "image/png": "[encoded data removed]",
      "text/plain": [
       "<Figure size 432x288 with 1 Axes>"
      ]
     },
     "metadata": {},
     "output_type": "display_data"
    },
    {
     "name": "stdout",
     "output_type": "stream",
     "text": [
      "AUC score:\n",
      " 0.90\n"
     ]
    },
    {
     "data": {
      "image/png": "[encoded data removed]",
      "text/plain": [
       "<Figure size 432x288 with 2 Axes>"
      ]
     },
     "metadata": {},
     "output_type": "display_data"
    }
   ],
   "source": [
    "# Load the saved vectorized data for train-test datapoints\n",
    "X_train_tfidf = pkl.load(open('train_tfidf.pkl', 'rb'))\n",
    "X_test_tfidf = pkl.load(open('test_tfidf.pkl', 'rb'))\n",
    "\n",
    "# We will add review length as new feature with our vectorized\n",
    "# data and train the model on this. We have calculated\n",
    "# review length in main dataframe and has been added as a \n",
    "# seperate column and can be accessed with X_train['Reviewlen']\n",
    "\n",
    "X_train_revlen = np.array(X_train['Reviewlen'].values)\n",
    "X_test_revlen = np.array(X_test['Reviewlen'].values)\n",
    "\n",
    "# hstack here helps in adding the new review length column to the \n",
    "# existing text vectors.\n",
    "\n",
    "X_train_tfidf = hstack((X_train_tfidf,X_train_revlen[:,None])).tocsr()\n",
    "X_test_tfidf = hstack((X_test_tfidf,X_test_revlen[:,None])).tocsr()\n",
    "\n",
    "# We will standardize the whole data including review length\n",
    "std = StandardScaler( with_mean=False)\n",
    "\n",
    "# Standardizing the vectors\n",
    "X_train_tfidf_std = std.fit_transform(X_train_tfidf)\n",
    "X_test_tfidf_std = std.transform(X_test_tfidf)\n",
    "\n",
    "# Getting an optimal value of hyperparameter alpha and AUC scores\n",
    "# This data is used to plot a graph of alpha-values vs AUC\n",
    "optimal_alpha, alpha_auc_train, alpha_auc_cv = get_optimal_alpha(X_train, y_train, 'tfidf', 1)\n",
    "print(\"Optimal value of alpha : {}\".format(optimal_alpha))\n",
    "\n",
    "train_auc = [(alpha, train_auc) for alpha, train_auc in alpha_auc_train]\n",
    "cv_auc = [(alpha, cv_auc) for alpha, cv_auc in alpha_auc_cv]\n",
    "\n",
    "# Plotting K values vs AUC scores\n",
    "\n",
    "plt.title(\"Alpha vs AUC\")\n",
    "plt.xlabel(\"Hyperparameter(alpha)\")\n",
    "plt.ylabel(\"Area under ROC curve\")\n",
    "plt.plot(*(zip(*train_auc)), label='Train_AUC')\n",
    "plt.plot(*(zip(*cv_auc)), label='Validation_AUC')\n",
    "plt.legend()\n",
    "plt.show()\n",
    "\n",
    "# Running Multinomial NB with optimal alpha value obtained\n",
    "nb_clf, auc_score, conf_mat = run_nb(X_train_tfidf_std, y_train, \n",
    "                                      X_test_tfidf_std, y_test, optimal_alpha)\n",
    "\n",
    "print(\"AUC score:\\n {:.2f}\".format(auc_score))\n",
    "\n",
    "# Plotting confusion matrix\n",
    "plot_confusion_matrix(conf_mat)\n",
    "\n",
    "auc_score = '%0.2f' % auc_score\n",
    "\n",
    "# Adding the results to our results dataframe\n",
    "results.loc[results.shape[0]] = [\"Review Text/ Review Length\", \"TF-IDF\", optimal_alpha, auc_score]"
   ]
  },
  {
   "cell_type": "markdown",
   "metadata": {},
   "source": [
    "# [6] Conclusions"
   ]
  },
  {
   "cell_type": "markdown",
   "metadata": {},
   "source": [
    "1. AUC score in MultinomialNB for both BoW and TF-IDF \n",
    "   is same i.e. 0.90 for this dataset\n",
    "\n",
    "\n",
    "2. Adding review length as an extra feature does not improve or worsen the model.\n",
    "   AUC stays at the same 0.90. \n",
    "\n",
    "\n",
    "3. Even though the AUC and alpha looks same for all cases, there are only marginal \n",
    "   differences in confusion matrices.\n",
    "\n",
    "\n",
    "\n",
    "\n",
    "\n",
    "4. Top postive words for BoW\n",
    "\n",
    "\n",
    "    'not' 'love' 'great' 'good' 'like' 'tast' 'one' 'tri' 'use' 'flavor'\n",
    "\n",
    "\n",
    "5. Top negative words for BoW\n",
    "\n",
    "\n",
    "    'not' 'tast' 'like' 'disappoint' 'product' 'would' 'bad' 'buy' 'not buy' 'one'\n",
    "\n",
    "\n",
    "6. Top postive words for TF-IDF\n",
    "\n",
    "\n",
    "    'not' 'love' 'like' 'great' 'good' 'tast' 'flavor' 'one' 'use' 'tri'\n",
    "\n",
    "\n",
    "7. Top negative words for TF-IDF\n",
    "\n",
    "\n",
    "    'not' 'tast' 'like' 'would' 'product' 'disappoint' 'bad' 'one' 'not buy' 'tri'"
   ]
  },
  {
   "cell_type": "code",
   "execution_count": 45,
   "metadata": {},
   "outputs": [
    {
     "name": "stdout",
     "output_type": "stream",
     "text": [
      "+------------------------------------+--------------------+---------------+--------------+\n",
      "|           Features-Used            |     Vectorizer     |     Alpha     |     AUC      |\n",
      "+------------------------------------+--------------------+---------------+--------------+\n",
      "|            Review Text             |        BoW         |      100      |     0.90     |\n",
      "+------------------------------------+--------------------+---------------+--------------+\n",
      "|     Review Text/ Review Length     |        BoW         |      100      |     0.90     |\n",
      "+------------------------------------+--------------------+---------------+--------------+\n",
      "|            Review Text             |       TF-IDF       |      100      |     0.90     |\n",
      "+------------------------------------+--------------------+---------------+--------------+\n",
      "|     Review Text/ Review Length     |       TF-IDF       |      100      |     0.90     |\n",
      "+------------------------------------+--------------------+---------------+--------------+\n"
     ]
    }
   ],
   "source": [
    "print_results(results)"
   ]
  }
 ],
 "metadata": {
  "kernelspec": {
   "display_name": "Python 3",
   "language": "python",
   "name": "python3"
  },
  "language_info": {
   "codemirror_mode": {
    "name": "ipython",
    "version": 3
   },
   "file_extension": ".py",
   "mimetype": "text/x-python",
   "name": "python",
   "nbconvert_exporter": "python",
   "pygments_lexer": "ipython3",
   "version": "3.6.5"
  }
 },
 "nbformat": 4,
 "nbformat_minor": 2
}
