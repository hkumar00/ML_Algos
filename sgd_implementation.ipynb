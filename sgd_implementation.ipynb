{
 "cells": [
  {
   "cell_type": "markdown",
   "metadata": {},
   "source": [
    "## Implementation of Stochastic Gradient Descent "
   ]
  },
  {
   "cell_type": "markdown",
   "metadata": {},
   "source": [
    "## Boston Housing Dataset\n",
    "1. The dataset contains a total of 506 cases.\n",
    "\n",
    "2. Each data point has 14 attributes.\n",
    "\n",
    "3. Target variable to predict is the housing price."
   ]
  },
  {
   "cell_type": "code",
   "execution_count": 1,
   "metadata": {},
   "outputs": [],
   "source": [
    "from sklearn import datasets\n",
    "import numpy as np\n",
    "from sklearn.model_selection import train_test_split\n",
    "from sklearn.metrics import mean_squared_error\n",
    "from sklearn.preprocessing import StandardScaler"
   ]
  },
  {
   "cell_type": "code",
   "execution_count": 35,
   "metadata": {},
   "outputs": [],
   "source": [
    "# Load the dataset\n",
    "boston = datasets.load_boston()\n",
    "X = boston.data\n",
    "y = boston.target"
   ]
  },
  {
   "cell_type": "code",
   "execution_count": 36,
   "metadata": {},
   "outputs": [],
   "source": [
    "# Normalizing the data using MinMaxScaler\n",
    "scaler = StandardScaler()\n",
    "X = scaler.fit_transform(X)"
   ]
  },
  {
   "cell_type": "code",
   "execution_count": 37,
   "metadata": {},
   "outputs": [],
   "source": [
    "# Split the data into train and test\n",
    "X_train, X_test, y_train, y_test = train_test_split(X,y)"
   ]
  },
  {
   "cell_type": "code",
   "execution_count": 38,
   "metadata": {},
   "outputs": [],
   "source": [
    "# This function helps in generating a random\n",
    "# sample of 150 points from the training data\n",
    "\n",
    "def get_random_sample(X_train, y_train):\n",
    "    y_train = y_train.reshape(y_train.shape[0], 1)\n",
    "\n",
    "    # Pick only K points out of n for SGD\n",
    "    # We will take the value of K as 150\n",
    "    train_data = np.hstack((X_train, y_train))\n",
    "\n",
    "    # Randomly sampling 150 points\n",
    "    idx =np.random.choice(range(train_data.shape[0]), \n",
    "                          150, replace=False)\n",
    "    train_all = train_data[idx, :]\n",
    "    return train_all[:,:train_data.shape[1]-1], train_all[:,train_data.shape[1]-1]"
   ]
  },
  {
   "cell_type": "code",
   "execution_count": 247,
   "metadata": {},
   "outputs": [],
   "source": [
    "# This function implements SGD regression\n",
    "# This function gets a random sample of \n",
    "# 150 training points at each epoch. This runs\n",
    "# for 5000 epochs. Also the function returns early\n",
    "# if the weight vectors and intercept term are not \n",
    "# changing by more than 0.00001 in consecutive iterations.\n",
    "\n",
    "def SGD_Regression(train_x, train_y, X_test):\n",
    "    # Randomly initializing the weight vector\n",
    "    # and the intercept term\n",
    "    w = np.random.normal(0,0.001,train_x.shape[1]) #weight vector\n",
    "    b = np.random.normal(0,0.001) #intercept term\n",
    "    r = 0.01 #learning rate\n",
    "    for j in range(20000):\n",
    "        X_train, y_train = get_random_sample(train_x, train_y)\n",
    "        sum_w = 0.0\n",
    "        sum_b = 0.0\n",
    "        for i in range(X_train.shape[0]):\n",
    "            y_i = w.dot(X_train[i,:]) + b\n",
    "            diff_term = y_train[i] - y_i\n",
    "            sum_w += X_train[i,:]*diff_term\n",
    "            sum_b += diff_term\n",
    "        sum_w = (-2*r/X_train.shape[0])*sum_w\n",
    "        sum_b = (-2*r/X_train.shape[0])*sum_b\n",
    "        w_new = w - sum_w\n",
    "        b_new = b - sum_b\n",
    "        if ((abs(w_new - w) <= 0.001).all()):\n",
    "            if(abs(b_new-b) <= 0.001):\n",
    "                print(j)\n",
    "                break\n",
    "        w = w_new\n",
    "        b = b_new\n",
    "    y_pred = X_test.dot(w.T) + b\n",
    "    return y_pred, w, b"
   ]
  },
  {
   "cell_type": "code",
   "execution_count": 248,
   "metadata": {},
   "outputs": [],
   "source": [
    "y_pred, weights, intercept = SGD_Regression(X_train,y_train,X_test)"
   ]
  },
  {
   "cell_type": "markdown",
   "metadata": {},
   "source": [
    "### Weight and Intercept for our implementation "
   ]
  },
  {
   "cell_type": "code",
   "execution_count": 249,
   "metadata": {
    "scrolled": true
   },
   "outputs": [
    {
     "name": "stdout",
     "output_type": "stream",
     "text": [
      "Weight Vector : \n",
      "[-0.84146244  1.25035284  0.07786282  0.97023426 -2.19540451  2.42087461\n",
      " -0.16478377 -3.28323797  2.47057641 -2.03310582 -1.72909893  0.71097205\n",
      " -3.90120819]\n",
      "\n",
      "Intercept term : \n",
      "22.490560350239942\n"
     ]
    }
   ],
   "source": [
    "print(\"Weight Vector : \\n{}\\n\".format(weights))\n",
    "print(\"Intercept term : \\n{}\".format(intercept))"
   ]
  },
  {
   "cell_type": "markdown",
   "metadata": {},
   "source": [
    "### Plotting predicted values vs actual values for our implementation "
   ]
  },
  {
   "cell_type": "code",
   "execution_count": 250,
   "metadata": {},
   "outputs": [
    {
     "data": {
      "image/png": "[encoded data removed]",
      "text/plain": [
       "<Figure size 432x288 with 1 Axes>"
      ]
     },
     "metadata": {},
     "output_type": "display_data"
    }
   ],
   "source": [
    "%matplotlib inline\n",
    "import matplotlib.pyplot as plt\n",
    "\n",
    "fig, ax = plt.subplots()\n",
    "ax.scatter(y_test, y_pred)\n",
    "ax.plot([y_test.min(), y_test.max()], [y_test.min(), y_test.max()], 'k--', lw=4)\n",
    "ax.set_xlabel(\"Actual Values\")\n",
    "ax.set_ylabel(\"Predicted Values\")\n",
    "plt.show()"
   ]
  },
  {
   "cell_type": "markdown",
   "metadata": {},
   "source": [
    "### Mean sqaure error for our implementation"
   ]
  },
  {
   "cell_type": "code",
   "execution_count": 251,
   "metadata": {},
   "outputs": [
    {
     "name": "stdout",
     "output_type": "stream",
     "text": [
      "21.891929561553084\n"
     ]
    }
   ],
   "source": [
    "print(mean_squared_error(y_test, y_pred))"
   ]
  },
  {
   "cell_type": "markdown",
   "metadata": {},
   "source": [
    "### Using SGDRegressor from Sklearn"
   ]
  },
  {
   "cell_type": "code",
   "execution_count": 252,
   "metadata": {
    "scrolled": true
   },
   "outputs": [],
   "source": [
    "from sklearn.linear_model import SGDRegressor\n",
    "\n",
    "sgd = SGDRegressor(loss='squared_loss', penalty='none', \n",
    "                   max_iter=500, random_state=40, \n",
    "                   eta0=0.01, power_t=0.5, tol=0.001)\n",
    "sgd.fit(X_train, y_train)\n",
    "y_pred = sgd.predict(X_test)\n",
    "\n",
    "#print(sgd.coef_, sgd.intercept_)"
   ]
  },
  {
   "cell_type": "markdown",
   "metadata": {},
   "source": [
    "### Plotting predicted values vs actual values for sklearn implementation "
   ]
  },
  {
   "cell_type": "code",
   "execution_count": 253,
   "metadata": {},
   "outputs": [
    {
     "data": {
      "image/png": "[encoded data removed]",
      "text/plain": [
       "<Figure size 432x288 with 1 Axes>"
      ]
     },
     "metadata": {},
     "output_type": "display_data"
    }
   ],
   "source": [
    "# Plotting Actual vs predicted values\n",
    "\n",
    "fig, ax = plt.subplots()\n",
    "ax.scatter(y_test, y_pred)\n",
    "ax.plot([y_test.min(), y_test.max()], [y_test.min(), y_test.max()], 'k--', lw=4)\n",
    "ax.set_xlabel(\"Actual Values\")\n",
    "ax.set_ylabel(\"Predicted Values\")\n",
    "plt.show()"
   ]
  },
  {
   "cell_type": "markdown",
   "metadata": {},
   "source": [
    "### Weight and Intercept for sklearn implementation "
   ]
  },
  {
   "cell_type": "code",
   "execution_count": 254,
   "metadata": {},
   "outputs": [
    {
     "name": "stdout",
     "output_type": "stream",
     "text": [
      "Weight Vector : \n",
      "[-0.66540382  0.71061082 -0.25307557  1.08453022 -1.46088581  2.89578861\n",
      " -0.19932513 -2.33893193  1.12230508 -0.62262849 -1.66798501  0.80110647\n",
      " -3.72619133]\n",
      "\n",
      "Intercept term : \n",
      "[22.49240887]\n"
     ]
    }
   ],
   "source": [
    "print(\"Weight Vector : \\n{}\\n\".format(sgd.coef_))\n",
    "print(\"Intercept term : \\n{}\".format(sgd.intercept_))"
   ]
  },
  {
   "cell_type": "markdown",
   "metadata": {},
   "source": [
    "### Mean square error for sklearn implementation"
   ]
  },
  {
   "cell_type": "code",
   "execution_count": 255,
   "metadata": {},
   "outputs": [
    {
     "name": "stdout",
     "output_type": "stream",
     "text": [
      "21.90159126959665\n"
     ]
    }
   ],
   "source": [
    "print(mean_squared_error(y_test, y_pred))"
   ]
  },
  {
   "cell_type": "markdown",
   "metadata": {},
   "source": [
    "### Tabular comparison between weight vectors"
   ]
  },
  {
   "cell_type": "code",
   "execution_count": 256,
   "metadata": {},
   "outputs": [
    {
     "name": "stdout",
     "output_type": "stream",
     "text": [
      "+----------------------------------------+--------------------------------------------+\n",
      "|     WeightVec (Our Implementation)     |     WeightVec (Sklearn Implementation)     |\n",
      "+----------------------------------------+--------------------------------------------+\n",
      "|          -0.8414624426457267           |            -0.6654038232730113             |\n",
      "+----------------------------------------+--------------------------------------------+\n",
      "|           1.2503528411923681           |             0.7106108200601592             |\n",
      "+----------------------------------------+--------------------------------------------+\n",
      "|          0.07786281837687324           |            -0.2530755720423145             |\n",
      "+----------------------------------------+--------------------------------------------+\n",
      "|           0.9702342593401336           |             1.084530221735219              |\n",
      "+----------------------------------------+--------------------------------------------+\n",
      "|           -2.195404514275849           |            -1.4608858146156514             |\n",
      "+----------------------------------------+--------------------------------------------+\n",
      "|           2.4208746069391753           |             2.8957886053230983             |\n",
      "+----------------------------------------+--------------------------------------------+\n",
      "|          -0.16478376955451438          |            -0.19932513377091304            |\n",
      "+----------------------------------------+--------------------------------------------+\n",
      "|          -3.2832379744593547           |             -2.338931930982837             |\n",
      "+----------------------------------------+--------------------------------------------+\n",
      "|           2.4705764132708343           |             1.1223050771787373             |\n",
      "+----------------------------------------+--------------------------------------------+\n",
      "|           -2.03310582210669            |             -0.622628494917959             |\n",
      "+----------------------------------------+--------------------------------------------+\n",
      "|          -1.7290989334378102           |            -1.6679850120320512             |\n",
      "+----------------------------------------+--------------------------------------------+\n",
      "|           0.7109720504515118           |             0.8011064714553713             |\n",
      "+----------------------------------------+--------------------------------------------+\n",
      "|          -3.9012081922110484           |            -3.7261913281862142             |\n",
      "+----------------------------------------+--------------------------------------------+\n"
     ]
    }
   ],
   "source": [
    "# Comparing the weight vectors for Our implementation\n",
    "# and SGDRegressor implementation in sklearn\n",
    "\n",
    "import prettytable as pt\n",
    "\n",
    "wvec = pt.PrettyTable(hrules=pt.ALL, vrules=pt.ALL, padding_width=5)\n",
    "#wvec.field_names = [\"WeightVec (Our Implemenatation)\", \"WeightVec (Sklearn Implemenatation)\"]\n",
    "wvec.add_column(\"WeightVec (Our Implementation)\", weights)\n",
    "wvec.add_column(\"WeightVec (Sklearn Implementation)\", sgd.coef_)\n",
    "\n",
    "print(wvec)"
   ]
  },
  {
   "cell_type": "markdown",
   "metadata": {},
   "source": [
    "## Observations"
   ]
  },
  {
   "cell_type": "markdown",
   "metadata": {},
   "source": [
    "1. SGD Implementation in sklearn provides similar results to our implementation.\n",
    "\n",
    "\n",
    "2. MSE for Sklearn's Implmentation is 21.90 whereas MSE for our \n",
    "   implementation is 21.89.\n",
    "\n",
    "\n",
    "3. Weight vectors differ slightly for both implementations but both seem \n",
    "   to be very close in terms of proportion of weights to each feature.\n",
    "\n",
    "\n",
    "4. For our SGD implementation, we are converging fast compared to gradient descent.\n",
    "\n",
    "\n",
    "5. Learning rate plays a crucial role in bringing the MSE down. \n",
    "   We observed better results for keeping learning rate at 0.01 \n",
    "   than reducing it by half at each step.\n",
    "\n",
    "\n",
    "6. Tried invariance scaling same as sklearn SGDRegressor but it gives worse results compared\n",
    "   to keeping the learning rate at 0.01 for this particular dataset.\n"
   ]
  }
 ],
 "metadata": {
  "kernelspec": {
   "display_name": "Python 3",
   "language": "python",
   "name": "python3"
  },
  "language_info": {
   "codemirror_mode": {
    "name": "ipython",
    "version": 3
   },
   "file_extension": ".py",
   "mimetype": "text/x-python",
   "name": "python",
   "nbconvert_exporter": "python",
   "pygments_lexer": "ipython3",
   "version": "3.6.5"
  }
 },
 "nbformat": 4,
 "nbformat_minor": 2
}
